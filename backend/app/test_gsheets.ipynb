{
 "cells": [
  {
   "cell_type": "markdown",
   "metadata": {},
   "source": [
    "\n",
    "- Script para probar la conexión y manipulación de datos en Google Sheets\n"
   ]
  },
  {
   "cell_type": "code",
   "execution_count": 1,
   "metadata": {},
   "outputs": [],
   "source": [
    "import gspread\n",
    "from google.oauth2.service_account import Credentials"
   ]
  },
  {
   "cell_type": "code",
   "execution_count": 3,
   "metadata": {},
   "outputs": [],
   "source": [
    "# Ruta al archivo de credenciales\n",
    "CREDENTIALS_FILE = \"credentials.json\"  # Asegúrate de estar en backend/app/ al ejecutar\n",
    "# Ámbito requerido para Google Sheets\n",
    "SCOPES = [\n",
    "    \"https://spreadsheets.google.com/feeds\",\n",
    "    \"https://www.googleapis.com/auth/spreadsheets\",\n",
    "    \"https://www.googleapis.com/auth/drive\"\n",
    "]"
   ]
  },
  {
   "cell_type": "code",
   "execution_count": 4,
   "metadata": {},
   "outputs": [],
   "source": [
    "# Autenticación\n",
    "creds = Credentials.from_service_account_file(CREDENTIALS_FILE, scopes=SCOPES)\n",
    "client = gspread.authorize(creds)"
   ]
  },
  {
   "cell_type": "code",
   "execution_count": 14,
   "metadata": {},
   "outputs": [],
   "source": [
    "# Abre la hoja por nombre o por URL\n",
    "SPREADSHEET_NAME = \"Presupuesto mensual\"  # Cambia esto por el nombre real de tu hoja\n",
    "Worksheet_name_test_1 = \"Pruebas\"\n",
    "Worksheet_name_test_2 = \"Transacciones Mayo David\"\n",
    "Worksheet_name_test_3 = \"Transacciones Junio David\"\n"
   ]
  },
  {
   "cell_type": "code",
   "execution_count": 9,
   "metadata": {},
   "outputs": [],
   "source": [
    "spreadsheet  = client.open(SPREADSHEET_NAME)  # abrir la hoja\n",
    "sheet = spreadsheet.worksheet(Worksheet_name_test_1)  # Usa .sheet1 o el nombre de la pestaña"
   ]
  },
  {
   "cell_type": "code",
   "execution_count": 10,
   "metadata": {},
   "outputs": [
    {
     "name": "stdout",
     "output_type": "stream",
     "text": [
      "Contenido actual de la hoja:\n",
      "['Fecha', 'Importe', 'Descripción', 'Categoría', 'Fuente']\n",
      "['2/05/2025', ' $84.000', 'El corral cita', 'Citas en pareja', 'Rappicard']\n",
      "['3/05/2025', ' $25.000', 'Disney plus', 'Subscripciones', 'Rappicard']\n"
     ]
    }
   ],
   "source": [
    "# Lee las filas existentes\n",
    "rows = sheet.get_all_values()\n",
    "print(\"Contenido actual de la hoja:\")\n",
    "for r in rows:\n",
    "    print(r) "
   ]
  },
  {
   "cell_type": "code",
   "execution_count": 11,
   "metadata": {},
   "outputs": [
    {
     "data": {
      "text/plain": [
       "{'spreadsheetId': '13ozBOlIoczx0Pt39DUD7Mt-L0Wf5SLfF6wGpvHMMx_U',\n",
       " 'tableRange': 'Pruebas!A1:E3',\n",
       " 'updates': {'spreadsheetId': '13ozBOlIoczx0Pt39DUD7Mt-L0Wf5SLfF6wGpvHMMx_U',\n",
       "  'updatedRange': 'Pruebas!A4:E4',\n",
       "  'updatedRows': 1,\n",
       "  'updatedColumns': 5,\n",
       "  'updatedCells': 5}}"
      ]
     },
     "execution_count": 11,
     "metadata": {},
     "output_type": "execute_result"
    }
   ],
   "source": [
    "# Escribe una fila de prueba\n",
    "row = ['3/05/2025', ' $25.000', 'Test plus', 'Subscripciones', 'Rappicard']\n",
    "sheet.append_row(row)\n"
   ]
  },
  {
   "cell_type": "code",
   "execution_count": 13,
   "metadata": {},
   "outputs": [
    {
     "data": {
      "text/plain": [
       "<Cell R1C1 'Fecha'>"
      ]
     },
     "execution_count": 13,
     "metadata": {},
     "output_type": "execute_result"
    }
   ],
   "source": [
    "sheet.cell(1, 1)"
   ]
  },
  {
   "cell_type": "code",
   "execution_count": 34,
   "metadata": {},
   "outputs": [],
   "source": [
    "sheet_2 = spreadsheet.worksheet(Worksheet_name_test_2)\n",
    "sheet_3 = spreadsheet.worksheet(Worksheet_name_test_3)"
   ]
  },
  {
   "cell_type": "code",
   "execution_count": 35,
   "metadata": {},
   "outputs": [
    {
     "data": {
      "text/plain": [
       "[['Fecha', 'Importe', 'Descripción', 'Categoría', 'Fuente'],\n",
       " ['', '', '', '', ''],\n",
       " ['', '', '', '', ''],\n",
       " ['', '', '', '', ''],\n",
       " ['', '', '', '', ''],\n",
       " ['', '', '', '', ''],\n",
       " ['', '', '', '', ''],\n",
       " ['', '', '', '', ''],\n",
       " ['', '', '', '', ''],\n",
       " ['', '', '', '', ''],\n",
       " ['', '', '', '', ''],\n",
       " ['', '', '', '', ''],\n",
       " ['', '', '', '', ''],\n",
       " ['', '', '', '', ''],\n",
       " ['', '', '', '', ''],\n",
       " ['', '', '', '', ''],\n",
       " ['', '', '', '', ''],\n",
       " ['', '', '', '', ''],\n",
       " ['', '', '', '', ''],\n",
       " ['', '', '', '', ''],\n",
       " ['', '', '', '', ''],\n",
       " ['', '', '', '', ''],\n",
       " ['', '', '', '', ''],\n",
       " ['', '', '', '', ''],\n",
       " ['', '', '', '', ''],\n",
       " ['', '', '', '', ''],\n",
       " ['', '', '', '', ''],\n",
       " ['', '', '', '', ''],\n",
       " ['', '', '', '', ''],\n",
       " ['', '', '', '', ''],\n",
       " ['', '', '', '', ''],\n",
       " ['', '', '', '', ''],\n",
       " ['', '', '', '', ''],\n",
       " ['', '', '', '', ''],\n",
       " ['', '', '', '', ''],\n",
       " ['', '', '', '', ''],\n",
       " ['', '', '', '', ''],\n",
       " ['', '', '', '', ''],\n",
       " ['', '', '', '', ''],\n",
       " ['', '', '', '', ''],\n",
       " ['', '', '', '', ''],\n",
       " ['', '', '', '', ''],\n",
       " ['', '', '', '', ''],\n",
       " ['', '', '', '', 'Lifemiles'],\n",
       " ['', '', '', '', 'Lifemiles'],\n",
       " ['', '', '', '', 'Lifemiles'],\n",
       " ['', '', '', '', 'Lifemiles']]"
      ]
     },
     "execution_count": 35,
     "metadata": {},
     "output_type": "execute_result"
    }
   ],
   "source": [
    "sheet_3.get_all_values()"
   ]
  },
  {
   "cell_type": "code",
   "execution_count": 36,
   "metadata": {},
   "outputs": [
    {
     "data": {
      "text/plain": [
       "[['Fecha', 'Importe', 'Descripción', 'Categoría', 'Fuente'],\n",
       " ['', '', '', '', ''],\n",
       " ['', '', '', '', ''],\n",
       " ['', '', '', '', ''],\n",
       " ['', '', '', '', ''],\n",
       " ['', '', '', '', ''],\n",
       " ['', '', '', '', ''],\n",
       " ['', '', '', '', ''],\n",
       " ['', '', '', '', ''],\n",
       " ['', '', '', '', ''],\n",
       " ['', '', '', '', ''],\n",
       " ['', '', '', '', ''],\n",
       " ['', '', '', '', ''],\n",
       " ['', '', '', '', ''],\n",
       " ['', '', '', '', ''],\n",
       " ['', '', '', '', ''],\n",
       " ['', '', '', '', ''],\n",
       " ['', '', '', '', ''],\n",
       " ['', '', '', '', ''],\n",
       " ['', '', '', '', ''],\n",
       " ['', '', '', '', ''],\n",
       " ['', '', '', '', ''],\n",
       " ['', '', '', '', ''],\n",
       " ['', '', '', '', ''],\n",
       " ['', '', '', '', ''],\n",
       " ['', '', '', '', ''],\n",
       " ['', '', '', '', ''],\n",
       " ['', '', '', '', ''],\n",
       " ['', '', '', '', ''],\n",
       " ['', '', '', '', ''],\n",
       " ['', '', '', '', ''],\n",
       " ['', '', '', '', ''],\n",
       " ['', '', '', '', ''],\n",
       " ['', '', '', '', ''],\n",
       " ['', '', '', '', ''],\n",
       " ['', '', '', '', ''],\n",
       " ['', '', '', '', ''],\n",
       " ['', '', '', '', ''],\n",
       " ['', '', '', '', ''],\n",
       " ['', '', '', '', ''],\n",
       " ['', '', '', '', ''],\n",
       " ['', '', '', '', ''],\n",
       " ['', '', '', '', ''],\n",
       " ['', '', '', '', 'Lifemiles'],\n",
       " ['', '', '', '', 'Lifemiles'],\n",
       " ['', '', '', '', 'Lifemiles'],\n",
       " ['', '', '', '', 'Lifemiles']]"
      ]
     },
     "execution_count": 36,
     "metadata": {},
     "output_type": "execute_result"
    }
   ],
   "source": [
    "list_sheet_3 = sheet_3.get_all_values()\n",
    "list_sheet_3"
   ]
  },
  {
   "cell_type": "code",
   "execution_count": 37,
   "metadata": {},
   "outputs": [
    {
     "data": {
      "text/plain": [
       "1"
      ]
     },
     "execution_count": 37,
     "metadata": {},
     "output_type": "execute_result"
    }
   ],
   "source": [
    "for row_list_3 in list_sheet_3[1:]:\n",
    "    if row_list_3[0] == \"\":\n",
    "        position_row = list_sheet_3.index(row_list_3)\n",
    "        break\n",
    "position_row"
   ]
  },
  {
   "cell_type": "code",
   "execution_count": 40,
   "metadata": {},
   "outputs": [],
   "source": [
    "row_to_append = ['3/05/2025',\n",
    "                '$25.000', \n",
    "                'Test plus',\n",
    "                'Subscripciones', \n",
    "                'Rappicard']\n"
   ]
  },
  {
   "cell_type": "code",
   "execution_count": null,
   "metadata": {},
   "outputs": [],
   "source": [
    "sheet_3.insert_row"
   ]
  },
  {
   "cell_type": "code",
   "execution_count": 42,
   "metadata": {},
   "outputs": [
    {
     "data": {
      "text/plain": [
       "{'spreadsheetId': '13ozBOlIoczx0Pt39DUD7Mt-L0Wf5SLfF6wGpvHMMx_U',\n",
       " 'updates': {'spreadsheetId': '13ozBOlIoczx0Pt39DUD7Mt-L0Wf5SLfF6wGpvHMMx_U',\n",
       "  'updatedRange': \"'Transacciones Junio David'!A2:E2\",\n",
       "  'updatedRows': 1,\n",
       "  'updatedColumns': 5,\n",
       "  'updatedCells': 5}}"
      ]
     },
     "execution_count": 42,
     "metadata": {},
     "output_type": "execute_result"
    }
   ],
   "source": [
    "sheet_3.insert_row(values=row_to_append, index=position_row+1)\n",
    "\n"
   ]
  },
  {
   "cell_type": "code",
   "execution_count": 43,
   "metadata": {},
   "outputs": [
    {
     "data": {
      "text/plain": [
       "{'spreadsheetId': '13ozBOlIoczx0Pt39DUD7Mt-L0Wf5SLfF6wGpvHMMx_U',\n",
       " 'updates': {'spreadsheetId': '13ozBOlIoczx0Pt39DUD7Mt-L0Wf5SLfF6wGpvHMMx_U',\n",
       "  'updatedRange': \"'Transacciones Junio David'!A3:E3\",\n",
       "  'updatedRows': 1,\n",
       "  'updatedColumns': 5,\n",
       "  'updatedCells': 5}}"
      ]
     },
     "execution_count": 43,
     "metadata": {},
     "output_type": "execute_result"
    }
   ],
   "source": [
    "sheet_3.insert_row(values=row_to_append, index=position_row+2)\n",
    "\n"
   ]
  }
 ],
 "metadata": {
  "kernelspec": {
   "display_name": "venv",
   "language": "python",
   "name": "python3"
  },
  "language_info": {
   "codemirror_mode": {
    "name": "ipython",
    "version": 3
   },
   "file_extension": ".py",
   "mimetype": "text/x-python",
   "name": "python",
   "nbconvert_exporter": "python",
   "pygments_lexer": "ipython3",
   "version": "3.10.6"
  }
 },
 "nbformat": 4,
 "nbformat_minor": 2
}
